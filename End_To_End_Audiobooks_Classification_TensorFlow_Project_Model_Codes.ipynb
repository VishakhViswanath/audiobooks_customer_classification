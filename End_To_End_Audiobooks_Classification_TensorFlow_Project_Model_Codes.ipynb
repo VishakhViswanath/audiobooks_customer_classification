{
 "cells": [
  {
   "cell_type": "markdown",
   "id": "fd145e4c",
   "metadata": {},
   "source": [
    "# Audio books\n",
    "\n",
    "The data is from an Audiobook app regarding the purchase of Audio versions of books. Each customer in the database has made a purchase at least once, that's why he/she is in the database. We want to create a machine learning algorithm based on our available data that can predict if a customer will buy again from the Audiobook company.\n",
    "\n",
    "The idea is that if a customer is of low potenitial, there is no reason to spend any money on advertizing to him/her. \n",
    "If we can focus our efforts only potential customers that are likely to convert again, we can make great savings. \n",
    "Moreover, this model can identify the most important metrics for a customer to come back again. Identifying new customers creates value and growth opportunities.\n",
    "\n",
    "We have a .csv summarizing the data. \n",
    "There are several variables: Customer ID, Book length in mins_avg (average of all purchases), Book length in minutes_sum (sum of all purchases), Price Paid_avg (average of all purchases), Price paid_sum (sum of all purchases), Review (a Boolean variable), Review (out of 10), Total minutes listened, Completion (from 0 to 1)(Targets), Support requests (number), and Last visited minus purchase date (in days).\n",
    "\n",
    "So these are the inputs (excluding customer ID, as it is completely arbitrary. It's more like a name, than a number).\n",
    "\n",
    "The targets are a Boolean variable (so 0, or 1). We are taking a period of 2 years in our inputs, and the next 6 months as targets. So, in fact, we are predicting if: based on the last 2 years of activity and engagement, a customer will convert in the next 6 months or not. 6 months sounds like a reasonable time. If they don't convert after 6 months, chances are they've gone to a competitor or didn't like the Audiobook way of digesting information.\n",
    "\n",
    "The task is to create a machine learning algorithm, which can predict if a customer will buy audiobooks from the company again or not.\n",
    "\n",
    "We will use TensorFlow to buld a classification model for this problem "
   ]
  },
  {
   "cell_type": "markdown",
   "id": "780232fd",
   "metadata": {},
   "source": [
    "# 1. Import libraries"
   ]
  },
  {
   "cell_type": "code",
   "execution_count": 3,
   "id": "f3a68d55",
   "metadata": {},
   "outputs": [],
   "source": [
    "import numpy as np\n",
    "import tensorflow as tf"
   ]
  },
  {
   "cell_type": "markdown",
   "id": "2962506a",
   "metadata": {},
   "source": [
    "# 2. Ensuring Data quality"
   ]
  },
  {
   "cell_type": "code",
   "execution_count": 7,
   "id": "a49c67d3",
   "metadata": {},
   "outputs": [],
   "source": [
    "# let's create a temporary variable npz, where we will store each of the three Audiobooks datasets\n",
    "npz = np.load('Audiobooks_data_train.npz')\n",
    "\n",
    "\n",
    "# to ensure that all data are of numerical data types and are of the same format/ data type , in this case floats\n",
    "train_inputs = npz['inputs'].astype(float)\n",
    "\n",
    "# targets must be int because of sparse_categorical_crossentropy (we want to encode them smoothly (one-hot encoding))\n",
    "train_targets = npz['targets'].astype(int)\n",
    "\n",
    "# we load the validation data in the temporary variable\n",
    "npz = np.load('Audiobooks_data_validation.npz')\n",
    "\n",
    "#loading validation inputs and the targets\n",
    "validation_inputs, validation_targets = npz['inputs'].astype(float), npz['targets'].astype(int)\n",
    "\n",
    "# we load the test data in the temporary variable\n",
    "npz = np.load('Audiobooks_data_test.npz')\n",
    "\n",
    "# we're creating two variables that will contain the test inputs and the test targets\n",
    "test_inputs, test_targets = npz['inputs'].astype(float), npz['targets'].astype(int)"
   ]
  },
  {
   "cell_type": "markdown",
   "id": "9b2496d1",
   "metadata": {},
   "source": [
    "# 3. Modelling"
   ]
  },
  {
   "cell_type": "code",
   "execution_count": 9,
   "id": "66a6492b",
   "metadata": {},
   "outputs": [],
   "source": [
    "\n",
    "input_size = 10\n",
    "output_size = 2\n",
    "hidden_layer_size = 50\n",
    "    \n",
    "# define how the model will look like\n",
    "model = tf.keras.Sequential([\n",
    "    # tf.keras.layers.Dense is basically implementing: output = activation(dot(input, weight) + bias)\n",
    "    \n",
    "    # it takes several arguments, but the most important ones for us are the hidden_layer_size and the activation function\n",
    "    \n",
    "    tf.keras.layers.Dense(hidden_layer_size, activation='relu'), # 1st hidden layer\n",
    "    \n",
    "    tf.keras.layers.Dense(hidden_layer_size, activation='relu'), # 2nd hidden layer\n",
    "    \n",
    "    # the final layer is no different, we just make sure to activate it with softmax activator\n",
    "    \n",
    "    tf.keras.layers.Dense(output_size, activation='softmax') # output layer\n",
    "])\n"
   ]
  },
  {
   "cell_type": "markdown",
   "id": "1091cb07",
   "metadata": {},
   "source": [
    "## Choose the optimizer and the loss function"
   ]
  },
  {
   "cell_type": "code",
   "execution_count": 10,
   "id": "448cfe4a",
   "metadata": {},
   "outputs": [],
   "source": [
    "\n",
    "# we define the optimizer('Adam')\n",
    "# the loss function('sparse_categorical_crossentropy')\n",
    "# and the metrics ('accuracy') we are interested in obtaining at each iteration\n",
    "model.compile(optimizer='adam', loss='sparse_categorical_crossentropy', metrics=['accuracy'])"
   ]
  },
  {
   "cell_type": "markdown",
   "id": "acb03858",
   "metadata": {},
   "source": [
    "# 4. Training"
   ]
  },
  {
   "cell_type": "code",
   "execution_count": 11,
   "id": "15ee1678",
   "metadata": {},
   "outputs": [],
   "source": [
    "\n",
    "# Batching - to improve data processing capacity and performance of model (set the batch size)\n",
    "batch_size = 100\n",
    "\n",
    "# set a maximum number of training epochs\n",
    "max_epochs = 100\n",
    "\n",
    "# set an early stopping mechanism( inorder to prevent model overfitting)\n",
    "# let's set patience=2, to be a bit tolerant against random validation loss increases\n",
    "early_stopping = tf.keras.callbacks.EarlyStopping(patience=2)"
   ]
  },
  {
   "cell_type": "markdown",
   "id": "6bea8471",
   "metadata": {},
   "source": [
    "# 5. Fitting the model"
   ]
  },
  {
   "cell_type": "code",
   "execution_count": 13,
   "id": "8e450e47",
   "metadata": {},
   "outputs": [
    {
     "name": "stdout",
     "output_type": "stream",
     "text": [
      "Epoch 1/100\n",
      "36/36 - 2s - loss: 0.5935 - accuracy: 0.6544 - val_loss: 0.4749 - val_accuracy: 0.7875 - 2s/epoch - 45ms/step\n",
      "Epoch 2/100\n",
      "36/36 - 0s - loss: 0.4534 - accuracy: 0.7768 - val_loss: 0.4086 - val_accuracy: 0.7875 - 94ms/epoch - 3ms/step\n",
      "Epoch 3/100\n",
      "36/36 - 0s - loss: 0.4042 - accuracy: 0.7932 - val_loss: 0.3790 - val_accuracy: 0.8009 - 94ms/epoch - 3ms/step\n",
      "Epoch 4/100\n",
      "36/36 - 0s - loss: 0.3822 - accuracy: 0.7958 - val_loss: 0.3660 - val_accuracy: 0.8166 - 94ms/epoch - 3ms/step\n",
      "Epoch 5/100\n",
      "36/36 - 0s - loss: 0.3684 - accuracy: 0.8005 - val_loss: 0.3523 - val_accuracy: 0.7964 - 94ms/epoch - 3ms/step\n",
      "Epoch 6/100\n",
      "36/36 - 0s - loss: 0.3604 - accuracy: 0.7985 - val_loss: 0.3428 - val_accuracy: 0.8367 - 110ms/epoch - 3ms/step\n",
      "Epoch 7/100\n",
      "36/36 - 0s - loss: 0.3526 - accuracy: 0.8145 - val_loss: 0.3386 - val_accuracy: 0.8389 - 94ms/epoch - 3ms/step\n",
      "Epoch 8/100\n",
      "36/36 - 0s - loss: 0.3470 - accuracy: 0.8148 - val_loss: 0.3326 - val_accuracy: 0.8098 - 110ms/epoch - 3ms/step\n",
      "Epoch 9/100\n",
      "36/36 - 0s - loss: 0.3441 - accuracy: 0.8136 - val_loss: 0.3375 - val_accuracy: 0.8300 - 110ms/epoch - 3ms/step\n",
      "Epoch 10/100\n",
      "36/36 - 0s - loss: 0.3398 - accuracy: 0.8198 - val_loss: 0.3292 - val_accuracy: 0.8188 - 94ms/epoch - 3ms/step\n",
      "Epoch 11/100\n",
      "36/36 - 0s - loss: 0.3411 - accuracy: 0.8142 - val_loss: 0.3231 - val_accuracy: 0.8345 - 94ms/epoch - 3ms/step\n",
      "Epoch 12/100\n",
      "36/36 - 0s - loss: 0.3357 - accuracy: 0.8161 - val_loss: 0.3296 - val_accuracy: 0.8277 - 126ms/epoch - 4ms/step\n",
      "Epoch 13/100\n",
      "36/36 - 0s - loss: 0.3364 - accuracy: 0.8150 - val_loss: 0.3201 - val_accuracy: 0.8345 - 141ms/epoch - 4ms/step\n",
      "Epoch 14/100\n",
      "36/36 - 0s - loss: 0.3338 - accuracy: 0.8201 - val_loss: 0.3180 - val_accuracy: 0.8345 - 220ms/epoch - 6ms/step\n",
      "Epoch 15/100\n",
      "36/36 - 0s - loss: 0.3308 - accuracy: 0.8184 - val_loss: 0.3222 - val_accuracy: 0.8210 - 282ms/epoch - 8ms/step\n",
      "Epoch 16/100\n",
      "36/36 - 0s - loss: 0.3298 - accuracy: 0.8206 - val_loss: 0.3196 - val_accuracy: 0.8322 - 237ms/epoch - 7ms/step\n"
     ]
    },
    {
     "data": {
      "text/plain": [
       "<keras.src.callbacks.History at 0x1e2c584ebe0>"
      ]
     },
     "execution_count": 13,
     "metadata": {},
     "output_type": "execute_result"
    }
   ],
   "source": [
    "# fit the model\n",
    "# note that this time the train, validation and test data are not iterable\n",
    "model.fit(train_inputs, # train inputs\n",
    "          train_targets, # train targets\n",
    "          batch_size=batch_size, # batch size\n",
    "          epochs=max_epochs, # epochs that we will train for (assuming early stopping doesn't kick in)\n",
    "          # callbacks are functions called by a task when a task is completed\n",
    "          # task here is to check if val_loss is increasing\n",
    "          \n",
    "          callbacks=[early_stopping], # early stopping\n",
    "          validation_data=(validation_inputs, validation_targets), # validation data\n",
    "          verbose = 2)  # making sure we get enough information about the training process"
   ]
  },
  {
   "cell_type": "markdown",
   "id": "ed8032b0",
   "metadata": {},
   "source": [
    "# 6. Testing the model\n",
    "\n",
    "After training on the training data and validating on the validation data, we test the final prediction power of our model by running it on the test dataset that the algorithm has NEVER seen before."
   ]
  },
  {
   "cell_type": "code",
   "execution_count": 17,
   "id": "19447a4e",
   "metadata": {},
   "outputs": [
    {
     "name": "stdout",
     "output_type": "stream",
     "text": [
      "14/14 [==============================] - 0s 1ms/step - loss: 0.3594 - accuracy: 0.8080\n"
     ]
    }
   ],
   "source": [
    "test_loss, test_accuracy = model.evaluate(test_inputs, test_targets)"
   ]
  },
  {
   "cell_type": "code",
   "execution_count": 18,
   "id": "03005edb",
   "metadata": {},
   "outputs": [
    {
     "name": "stdout",
     "output_type": "stream",
     "text": [
      "\n",
      "Test loss: 0.36. \n",
      "Test accuracy: 80.80%\n"
     ]
    }
   ],
   "source": [
    "print('\\nTest loss: {0:.2f}. \\nTest accuracy: {1:.2f}%'.format(test_loss, test_accuracy*100.))"
   ]
  },
  {
   "cell_type": "markdown",
   "id": "b1f8be09",
   "metadata": {},
   "source": [
    "We've obatined a test accuracy of 81 % in this run, each time the code is rerun, we get a different accuracy because each training is different\n"
   ]
  },
  {
   "cell_type": "code",
   "execution_count": null,
   "id": "0d9d2542",
   "metadata": {},
   "outputs": [],
   "source": []
  }
 ],
 "metadata": {
  "kernelspec": {
   "display_name": "Python [conda env:.conda-TFenv]",
   "language": "python",
   "name": "conda-env-.conda-TFenv-py"
  },
  "language_info": {
   "codemirror_mode": {
    "name": "ipython",
    "version": 3
   },
   "file_extension": ".py",
   "mimetype": "text/x-python",
   "name": "python",
   "nbconvert_exporter": "python",
   "pygments_lexer": "ipython3",
   "version": "3.8.19"
  }
 },
 "nbformat": 4,
 "nbformat_minor": 5
}
